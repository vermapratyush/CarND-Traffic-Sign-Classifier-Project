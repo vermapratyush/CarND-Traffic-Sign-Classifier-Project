{
 "cells": [
  {
   "cell_type": "markdown",
   "metadata": {},
   "source": [
    "# Self-Driving Car Engineer Nanodegree\n",
    "\n",
    "## Deep Learning\n",
    "\n",
    "## Project: Build a Traffic Sign Recognition Classifier\n",
    "\n",
    "In this notebook, a template is provided for you to implement your functionality in stages which is required to successfully complete this project. If additional code is required that cannot be included in the notebook, be sure that the Python code is successfully imported and included in your submission, if necessary. Sections that begin with **'Implementation'** in the header indicate where you should begin your implementation for your project. Note that some sections of implementation are optional, and will be marked with **'Optional'** in the header.\n",
    "\n",
    "In addition to implementing code, there will be questions that you must answer which relate to the project and your implementation. Each section where you will answer a question is preceded by a **'Question'** header. Carefully read each question and provide thorough answers in the following text boxes that begin with **'Answer:'**. Your project submission will be evaluated based on your answers to each of the questions and the implementation you provide.\n",
    "\n",
    ">**Note:** Code and Markdown cells can be executed using the **Shift + Enter** keyboard shortcut. In addition, Markdown cells can be edited by typically double-clicking the cell to enter edit mode."
   ]
  },
  {
   "cell_type": "markdown",
   "metadata": {},
   "source": [
    "---\n",
    "## Step 0: Load The Data"
   ]
  },
  {
   "cell_type": "code",
   "execution_count": 1,
   "metadata": {
    "collapsed": false
   },
   "outputs": [
    {
     "name": "stderr",
     "output_type": "stream",
     "text": [
      "/home/pratyushverma/installation/anaconda2/envs/CarND-Traffic-Sign-Classifier-Project/lib/python3.5/site-packages/sklearn/cross_validation.py:44: DeprecationWarning: This module was deprecated in version 0.18 in favor of the model_selection module into which all the refactored classes and functions are moved. Also note that the interface of the new CV iterators are different from that of this module. This module will be removed in 0.20.\n",
      "  \"This module will be removed in 0.20.\", DeprecationWarning)\n"
     ]
    }
   ],
   "source": [
    "# Load pickled data\n",
    "import pickle\n",
    "from sklearn.cross_validation import train_test_split\n",
    "from sklearn.utils import shuffle\n",
    "\n",
    "# TODO: Fill this in based on where you saved the training and testing data\n",
    "\n",
    "training_file = 'data/train.p'\n",
    "testing_file = 'data/test.p'\n",
    "\n",
    "with open(training_file, mode='rb') as f:\n",
    "    train = pickle.load(f)\n",
    "with open(testing_file, mode='rb') as f:\n",
    "    test = pickle.load(f)\n",
    "\n",
    "    \n",
    "def rgb2gray(rgb):\n",
    "    return np.dot(rgb[...,:3], [0.299, 0.587, 0.114])\n",
    "    \n",
    "X_train, y_train = train['features'], train['labels']\n",
    "X_test, y_test = test['features'], test['labels']\n",
    "\n",
    "X_train, y_train = shuffle(X_train, y_train)\n",
    "        \n",
    "X_train, X_validation, y_train, y_validation = train_test_split(X_train, y_train, test_size=0.2)\n",
    "\n",
    "# X_train = X_train.astype(float)\n",
    "# X_train /= 255.0\n",
    "# X_test = X_test.astype(float)\n",
    "# X_test /= 255.0\n",
    "# X_validation = X_validation.astype(float)\n",
    "# X_validation /= 255.0\n",
    "\n",
    "#XX = rgb2gray(X_train)\n",
    "#XV = rgb2gray(X_validation)\n",
    "#YY = rgb2gray(X_test)\n",
    "#X_train = np.reshape(XX, [-1, 32, 32, 1])\n",
    "#X_test = np.reshape(YY, [-1, 32, 32, 1])\n",
    "#X_validation = np.reshape(XV, [-1, 32, 32, 1])\n"
   ]
  },
  {
   "cell_type": "markdown",
   "metadata": {},
   "source": [
    "---\n",
    "\n",
    "## Step 1: Dataset Summary & Exploration\n",
    "\n",
    "The pickled data is a dictionary with 4 key/value pairs:\n",
    "\n",
    "- `'features'` is a 4D array containing raw pixel data of the traffic sign images, (num examples, width, height, channels).\n",
    "- `'labels'` is a 2D array containing the label/class id of the traffic sign. The file `signnames.csv` contains id -> name mappings for each id.\n",
    "- `'sizes'` is a list containing tuples, (width, height) representing the the original width and height the image.\n",
    "- `'coords'` is a list containing tuples, (x1, y1, x2, y2) representing coordinates of a bounding box around the sign in the image. **THESE COORDINATES ASSUME THE ORIGINAL IMAGE. THE PICKLED DATA CONTAINS RESIZED VERSIONS (32 by 32) OF THESE IMAGES**\n",
    "\n",
    "Complete the basic data summary below."
   ]
  },
  {
   "cell_type": "code",
   "execution_count": 2,
   "metadata": {
    "collapsed": false
   },
   "outputs": [
    {
     "name": "stdout",
     "output_type": "stream",
     "text": [
      "(39209, 4)\n",
      "(39209, 2)\n",
      "Number of training examples = 31367\n",
      "Number of testing examples = 12630\n",
      "Image data shape = (31367, 32, 32, 3)\n",
      "Number of classes = 43\n"
     ]
    }
   ],
   "source": [
    "### Replace each question mark with the appropriate value.\n",
    "import numpy as np\n",
    "\n",
    "# TODO: Number of training examples\n",
    "n_train = len(X_train)\n",
    "\n",
    "# TODO: Number of testing examples.\n",
    "n_test = len(X_test)\n",
    "\n",
    "# TODO: What's the shape of an traffic sign image?\n",
    "image_shape = X_train.shape\n",
    "\n",
    "# TODO: How many unique classes/labels there are in the dataset.\n",
    "n_classes = len(np.unique(y_train))\n",
    "\n",
    "print(train['coords'].shape)\n",
    "print(train['sizes'].shape)\n",
    "\n",
    "print(\"Number of training examples =\", n_train)\n",
    "print(\"Number of testing examples =\", n_test)\n",
    "print(\"Image data shape =\", image_shape)\n",
    "print(\"Number of classes =\", n_classes)"
   ]
  },
  {
   "cell_type": "markdown",
   "metadata": {},
   "source": [
    "Visualize the German Traffic Signs Dataset using the pickled file(s). This is open ended, suggestions include: plotting traffic sign images, plotting the count of each sign, etc.\n",
    "\n",
    "The [Matplotlib](http://matplotlib.org/) [examples](http://matplotlib.org/examples/index.html) and [gallery](http://matplotlib.org/gallery.html) pages are a great resource for doing visualizations in Python.\n",
    "\n",
    "**NOTE:** It's recommended you start with something simple first. If you wish to do more, come back to it after you've completed the rest of the sections."
   ]
  },
  {
   "cell_type": "code",
   "execution_count": 3,
   "metadata": {
    "collapsed": false
   },
   "outputs": [
    {
     "data": {
      "image/png": "[encoded data removed]",
      "text/plain": [
       "<matplotlib.figure.Figure at 0x7fe9d8f43860>"
      ]
     },
     "metadata": {},
     "output_type": "display_data"
    },
    {
     "name": "stdout",
     "output_type": "stream",
     "text": [
      "33\n"
     ]
    },
    {
     "data": {
      "image/png": "[encoded data removed]",
      "text/plain": [
       "<matplotlib.figure.Figure at 0x7fe9b46ec2b0>"
      ]
     },
     "metadata": {},
     "output_type": "display_data"
    }
   ],
   "source": [
    "### Data exploration visualization goes here.\n",
    "### Feel free to use as many code cells as needed.\n",
    "import matplotlib.pyplot as plt\n",
    "import random\n",
    "\n",
    "# Visualizations will be shown in the notebook.\n",
    "%matplotlib inline\n",
    "label_freq = np.bincount(y_train)\n",
    "plt.barh(np.arange(n_classes), label_freq, align='center', alpha=0.4)\n",
    "\n",
    "plt.xlabel('# samples')\n",
    "plt.title('How fast do you want to go today?')\n",
    "\n",
    "plt.show()\n",
    "\n",
    "index = random.randint(0, len(X_train))\n",
    "image = X_train[index]\n",
    "plt.figure(figsize=(1,1))\n",
    "plt.imshow(image, cmap=\"gray\")\n",
    "print(y_train[index])"
   ]
  },
  {
   "cell_type": "markdown",
   "metadata": {},
   "source": [
    "----\n",
    "\n",
    "## Step 2: Design and Test a Model Architecture\n",
    "\n",
    "Design and implement a deep learning model that learns to recognize traffic signs. Train and test your model on the [German Traffic Sign Dataset](http://benchmark.ini.rub.de/?section=gtsrb&subsection=dataset).\n",
    "\n",
    "There are various aspects to consider when thinking about this problem:\n",
    "\n",
    "- Neural network architecture\n",
    "- Play around preprocessing techniques (normalization, rgb to grayscale, etc)\n",
    "- Number of examples per label (some have more than others).\n",
    "- Generate fake data.\n",
    "\n",
    "Here is an example of a [published baseline model on this problem](http://yann.lecun.com/exdb/publis/pdf/sermanet-ijcnn-11.pdf). It's not required to be familiar with the approach used in the paper but, it's good practice to try to read papers like these.\n",
    "\n",
    "**NOTE:** The LeNet-5 implementation shown in the [classroom](https://classroom.udacity.com/nanodegrees/nd013/parts/fbf77062-5703-404e-b60c-95b78b2f3f9e/modules/6df7ae49-c61c-4bb2-a23e-6527e69209ec/lessons/601ae704-1035-4287-8b11-e2c2716217ad/concepts/d4aca031-508f-4e0b-b493-e7b706120f81) at the end of the CNN lesson is a solid starting point. You'll have to change the number of classes and possibly the preprocessing, but aside from that it's plug and play!"
   ]
  },
  {
   "cell_type": "markdown",
   "metadata": {},
   "source": [
    "### Implementation\n",
    "\n",
    "Use the code cell (or multiple code cells, if necessary) to implement the first step of your project. Once you have completed your implementation and are satisfied with the results, be sure to thoroughly answer the questions that follow."
   ]
  },
  {
   "cell_type": "code",
   "execution_count": 4,
   "metadata": {
    "collapsed": true
   },
   "outputs": [],
   "source": [
    "### Preprocess the data here.\n",
    "### Feel free to use as many code cells as needed.\n",
    "import tensorflow as tf\n",
    "\n",
    "BATCH_SIZE = 128\n",
    "EPOCH = 10\n"
   ]
  },
  {
   "cell_type": "code",
   "execution_count": 5,
   "metadata": {
    "collapsed": false
   },
   "outputs": [],
   "source": [
    "def conv2d(x, W, b, strides=1, pad='VALID'):\n",
    "    conv = tf.nn.conv2d(x, W, strides=[1, strides, strides, 1], padding=pad)\n",
    "    conv = tf.nn.bias_add(conv, b)\n",
    "    return conv"
   ]
  },
  {
   "cell_type": "code",
   "execution_count": 6,
   "metadata": {
    "collapsed": true
   },
   "outputs": [],
   "source": [
    "def activation(x):\n",
    "    return tf.nn.relu(x)"
   ]
  },
  {
   "cell_type": "code",
   "execution_count": 7,
   "metadata": {
    "collapsed": true
   },
   "outputs": [],
   "source": [
    "def pool(x, k=1, pad='VALID'):\n",
    "    return tf.nn.max_pool(x, ksize=[1, k, k, 1], strides=[1, k, k, 1], padding=pad)"
   ]
  },
  {
   "cell_type": "code",
   "execution_count": 8,
   "metadata": {
    "collapsed": false
   },
   "outputs": [],
   "source": [
    "from tensorflow.contrib.layers import flatten\n",
    "\n",
    "def LeNet(x, nodes_for_fc=2450):\n",
    "    # Hyperparameters\n",
    "    mu = 0\n",
    "    sigma = 0.1\n",
    "    print(\"................{}\".format(nodes_for_fc))\n",
    "    layer_depth = {\n",
    "        'layer_1': 30,\n",
    "        'layer_2': 50,\n",
    "        'layer_3': nodes_for_fc,\n",
    "        'layer_4': 360,\n",
    "        'layer_5': 252,\n",
    "        'layer_6': 128,\n",
    "        'layer_7': 80\n",
    "    }\n",
    "    \n",
    "    filter_size = 2\n",
    "    \n",
    "    weight = {\n",
    "        'layer_1': tf.Variable(tf.truncated_normal(shape=[filter_size, filter_size, 3, layer_depth['layer_1']], mean = mu, stddev = sigma)),\n",
    "        'layer_2': tf.Variable(tf.truncated_normal(shape=[filter_size, filter_size, layer_depth['layer_1'], layer_depth['layer_2']], mean = mu, stddev = sigma)),\n",
    "        'layer_3': tf.Variable(tf.truncated_normal(shape=[layer_depth['layer_3'], layer_depth['layer_4']], mean = mu, stddev = sigma)),\n",
    "        'layer_4': tf.Variable(tf.truncated_normal(shape=[layer_depth['layer_4'], layer_depth['layer_5']], mean = mu, stddev = sigma)),\n",
    "        'layer_5': tf.Variable(tf.truncated_normal(shape=[layer_depth['layer_5'], layer_depth['layer_6']], mean = mu, stddev = sigma)),\n",
    "        'layer_6': tf.Variable(tf.truncated_normal(shape=[layer_depth['layer_6'], layer_depth['layer_7']], mean = mu, stddev = sigma)),\n",
    "        'out': tf.Variable(tf.truncated_normal(shape=[layer_depth['layer_7'], n_classes], mean = mu, stddev = sigma))\n",
    "        \n",
    "    }\n",
    "    bias = {\n",
    "        'layer_1': tf.Variable(tf.zeros(layer_depth['layer_1'])),\n",
    "        'layer_2': tf.Variable(tf.zeros(layer_depth['layer_2'])),\n",
    "        'layer_3': tf.Variable(tf.zeros(layer_depth['layer_3'])),\n",
    "        'layer_4': tf.Variable(tf.zeros(layer_depth['layer_4'])),\n",
    "        'layer_5': tf.Variable(tf.zeros(layer_depth['layer_5'])),\n",
    "        'layer_6': tf.Variable(tf.zeros(layer_depth['layer_6'])),\n",
    "        'layer_7': tf.Variable(tf.zeros(layer_depth['layer_7'])),\n",
    "        'out': tf.Variable(tf.zeros(n_classes)),\n",
    "    }\n",
    "    l4_dropout = tf.placeholder(tf.float32)\n",
    "    l5_dropout = tf.placeholder(tf.float32)\n",
    "    l6_dropout = tf.placeholder(tf.float32)\n",
    "    # TODO: Layer 1: Convolutional. Input = 32x32x1. Output = 28x28x6.\n",
    "    l1 = conv2d(x, weight['layer_1'], bias['layer_1'])\n",
    "    \n",
    "    # TODO: Activation.\n",
    "    l1 = activation(l1)\n",
    "\n",
    "    # TODO: Pooling. Input = 28x28x6. Output = 14x14x6.\n",
    "    l1 = pool(l1, 2)\n",
    "\n",
    "    # TODO: Layer 2: Convolutional. Output = 10x10x16.\n",
    "    l2 = conv2d(l1, weight['layer_2'], bias['layer_2'])\n",
    "    \n",
    "    # TODO: Activation.\n",
    "    l2 = activation(l2)\n",
    "\n",
    "    # TODO: Pooling. Input = 10x10x16. Output = 5x5x16.\n",
    "    l2 = pool(l2, 2)\n",
    "    \n",
    "    # TODO: Flatten. Input = 5x5x16. Output = 400.\n",
    "    l3 = flatten(l2)\n",
    "    \n",
    "    # TODO: Layer 3: Fully Connected. Input = 400. Output = 120.\n",
    "    l3 = tf.add(tf.matmul(l3, weight['layer_3']), bias['layer_4'])\n",
    "    \n",
    "    # TODO: Activation.\n",
    "    l3 = activation(l3)\n",
    "\n",
    "    # TODO: Layer 4: Fully Connected. Input = 120. Output = 84.\n",
    "    l4 = tf.add(tf.matmul(l3, weight['layer_4']), bias['layer_5'])\n",
    "    \n",
    "    # TODO: Activation.\n",
    "    l4 = activation(l4)\n",
    "    l4 = tf.nn.dropout(l4, l4_dropout)\n",
    "    \n",
    "    # TODO: Layer 4: Fully Connected. Input = 120. Output = 84.\n",
    "    l5 = tf.add(tf.matmul(l4, weight['layer_5']), bias['layer_6'])\n",
    "    \n",
    "    # TODO: Activation.\n",
    "    l5 = activation(l5)\n",
    "    l5 = tf.nn.dropout(l5, l5_dropout)\n",
    "    \n",
    "    # TODO: Layer 4: Fully Connected. Input = 120. Output = 84.\n",
    "    l6 = tf.add(tf.matmul(l5, weight['layer_6']), bias['layer_7'])\n",
    "    \n",
    "    # TODO: Activation.\n",
    "    l6 = activation(l6)\n",
    "    l6 = tf.nn.dropout(l6, l6_dropout)\n",
    "    \n",
    "    # TODO: Layer 5: Fully Connected. Input = 84. Output = 10.\n",
    "    logits = tf.add(tf.matmul(l6, weight['out']), bias['out'])\n",
    "    \n",
    "    return logits, weight, bias, l4_dropout, l5_dropout, l6_dropout"
   ]
  },
  {
   "cell_type": "code",
   "execution_count": 9,
   "metadata": {
    "collapsed": true
   },
   "outputs": [],
   "source": [
    "# XX = rgb2gray(X_train)\n",
    "# XV = rgb2gray(X_validation)\n",
    "# YY = rgb2gray(X_test)\n",
    "# X_train = np.reshape(XX, [-1, 32, 32, 1])\n",
    "# X_test = np.reshape(YY, [-1, 32, 32, 1])\n",
    "# X_validation = np.reshape(XV, [-1, 32, 32, 1])"
   ]
  },
  {
   "cell_type": "code",
   "execution_count": 10,
   "metadata": {
    "collapsed": true
   },
   "outputs": [],
   "source": [
    "x = tf.placeholder(tf.float32, (None, 32, 32, 3), name=\"x\")\n",
    "y = tf.placeholder(tf.int32, (None), name=\"y\")\n",
    "one_hot_y = tf.one_hot(y, n_classes)\n",
    "\n",
    "rate = 0.001 # enough compute power, do not change this\n",
    "beta = 0.01\n",
    "\n",
    "fc_size = 2450"
   ]
  },
  {
   "cell_type": "code",
   "execution_count": 11,
   "metadata": {
    "collapsed": false,
    "scrolled": false
   },
   "outputs": [
    {
     "name": "stdout",
     "output_type": "stream",
     "text": [
      "................2450\n",
      "Training...\n",
      "\n",
      "(31367, 32, 32, 3)\n",
      "loss=1.2503956899557525\n",
      "EPOCH 1 ...\n",
      "Validation Accuracy = 0.636\n",
      "\n",
      "(31367, 32, 32, 3)\n",
      "loss=0.7002380561208283\n",
      "EPOCH 2 ...\n",
      "Validation Accuracy = 0.784\n",
      "\n",
      "(31367, 32, 32, 3)\n",
      "loss=0.4273402721903211\n",
      "EPOCH 3 ...\n",
      "Validation Accuracy = 0.879\n",
      "\n",
      "(31367, 32, 32, 3)\n",
      "loss=0.3854277856255395\n",
      "EPOCH 4 ...\n",
      "Validation Accuracy = 0.897\n",
      "\n",
      "(31367, 32, 32, 3)\n",
      "loss=0.3242381305113779\n",
      "EPOCH 5 ...\n",
      "Validation Accuracy = 0.914\n",
      "\n",
      "(31367, 32, 32, 3)\n",
      "loss=0.2635732669202626\n",
      "EPOCH 6 ...\n",
      "Validation Accuracy = 0.925\n",
      "\n",
      "(31367, 32, 32, 3)\n",
      "loss=0.2605279779302862\n",
      "EPOCH 7 ...\n",
      "Validation Accuracy = 0.928\n",
      "\n",
      "(31367, 32, 32, 3)\n",
      "loss=0.46362999098745794\n",
      "EPOCH 8 ...\n",
      "Validation Accuracy = 0.876\n",
      "\n",
      "(31367, 32, 32, 3)\n",
      "loss=0.21243436550841593\n",
      "EPOCH 9 ...\n",
      "Validation Accuracy = 0.944\n",
      "\n",
      "(31367, 32, 32, 3)\n",
      "loss=0.23516665813476395\n",
      "EPOCH 10 ...\n",
      "Validation Accuracy = 0.940\n",
      "\n",
      "Model saved\n",
      "loss=0.5755825569241303\n",
      "Test Accuracy = 0.859\n"
     ]
    }
   ],
   "source": [
    "import matplotlib.image as mpimg\n",
    "\n",
    "def evaluate(X_data, y_data):\n",
    "    num_examples = len(X_data)\n",
    "    total_accuracy = 0\n",
    "    sess = tf.get_default_session()\n",
    "    loss = []\n",
    "    for offset in range(0, num_examples, BATCH_SIZE):\n",
    "        batch_x, batch_y = X_data[offset:offset+BATCH_SIZE], y_data[offset:offset+BATCH_SIZE]\n",
    "        accuracy, this_loss = sess.run([accuracy_operation, cross_entropy], feed_dict={x: batch_x, y: batch_y, d1:1, d2:1, d3:1})\n",
    "        loss = np.append(loss, this_loss)\n",
    "        total_accuracy += (accuracy * len(batch_x))\n",
    "        \n",
    "    print(\"loss={}\".format(np.average(loss)))\n",
    "    return total_accuracy / num_examples\n",
    "\n",
    "logits, weight, bias, d1, d2, d3 = LeNet(x, fc_size)\n",
    "cross_entropy = tf.nn.softmax_cross_entropy_with_logits(logits, one_hot_y)\n",
    "loss_operation = tf.reduce_mean(cross_entropy)\\\n",
    "    + beta*tf.nn.l2_loss(weight['layer_1']) + beta*tf.nn.l2_loss(weight['layer_2']) + beta*tf.nn.l2_loss(weight['layer_3']) + beta*tf.nn.l2_loss(weight['layer_4']) \\\n",
    "    + beta*tf.nn.l2_loss(weight['layer_5']) + beta*tf.nn.l2_loss(weight['layer_6']) +  beta*tf.nn.l2_loss(weight['out'])\n",
    "\n",
    "optimizer = tf.train.AdamOptimizer(learning_rate = rate)\n",
    "training_operation = optimizer.minimize(loss_operation)\n",
    "\n",
    "predicted_class = tf.argmax(logits, 1)\n",
    "correct_prediction = tf.equal(predicted_class, tf.argmax(one_hot_y, 1))\n",
    "accuracy_operation = tf.reduce_mean(tf.cast(correct_prediction, tf.float32))\n",
    "saver = tf.train.Saver()\n",
    "\n",
    "with tf.Session() as sess:\n",
    "    sess.run(tf.global_variables_initializer())\n",
    "    num_examples = len(X_train)\n",
    "\n",
    "    print(\"Training...\")\n",
    "    print()\n",
    "    for i in range(EPOCH):\n",
    "        print(X_train.shape)\n",
    "        for offset in range(0, num_examples, BATCH_SIZE):\n",
    "            end = offset + BATCH_SIZE\n",
    "            batch_x, batch_y = X_train[offset:end], y_train[offset:end]\n",
    "            sess.run(training_operation, feed_dict={x: batch_x, y: batch_y, d1:1, d2:1, d3:1})\n",
    "\n",
    "        validation_accuracy = evaluate(X_validation, y_validation)\n",
    "        print(\"EPOCH {} ...\".format(i+1))\n",
    "        print(\"Validation Accuracy = {:.3f}\".format(validation_accuracy))\n",
    "        print()\n",
    "\n",
    "    saver.save(sess, 'germany.ckpt')\n",
    "    print(\"Model saved\")\n",
    "\n",
    "    test_accuracy = evaluate(X_test, y_test)\n",
    "    print(\"Test Accuracy = {:.3f}\".format(test_accuracy))"
   ]
  },
  {
   "cell_type": "raw",
   "metadata": {
    "collapsed": false
   },
   "source": [
    "### Obervations:\n",
    "###    1. With default setting, increasing the EPOCH does not lead to overfitting.\n",
    "###        - Turns out in case of larger NN, it does cause over fitting. Keep EPOCH to 10\n",
    "###    2. With activation as tanh, learning is much faster.\n",
    "###    3. With default setting and more neurons in each layer - OVERFITTING\n",
    "###    4. Adding new 1 new FC layer increases the accuracy by 7-8%. But adding 1+ FC, does not help\n",
    "###    5. Decreasing filter size to 3, increased the accuracy to 91.9%\n",
    "###    6. Added L2 regularization, accuracy increased slightly by 0.5%. Considerably less over fitting\n",
    "###    7. Not enough help from dropout. Keeping the probability as 1\n",
    "    "
   ]
  },
  {
   "cell_type": "markdown",
   "metadata": {},
   "source": [
    "### Question 1 \n",
    "\n",
    "_Describe how you preprocessed the data. Why did you choose that technique?_"
   ]
  },
  {
   "cell_type": "markdown",
   "metadata": {},
   "source": [
    "**Answer:**"
   ]
  },
  {
   "cell_type": "markdown",
   "metadata": {},
   "source": [
    "The images are split into test, train and validation set in the ration of 80%, 10% and 10% respectively.\n",
    "\n",
    "Greyscale of the image does not result in good output as the color in a traffic sign is important.\n",
    "Averaging the image also resulted in a poor accuracy.\n",
    "\n",
    "From the histogram above, we can see that some image category do not have enough samples as others."
   ]
  },
  {
   "cell_type": "code",
   "execution_count": 12,
   "metadata": {
    "collapsed": false
   },
   "outputs": [
    {
     "name": "stdout",
     "output_type": "stream",
     "text": [
      "done\n"
     ]
    }
   ],
   "source": [
    "### Generate data additional data (OPTIONAL!)\n",
    "### and split the data into training/validation/testing sets here.\n",
    "### Feel free to use as many code cells as needed.\n",
    "from os import listdir\n",
    "from os.path import isfile, join\n",
    "import numpy\n",
    "import cv2\n",
    "import csv\n",
    "from PIL import Image\n",
    "from matplotlib import pyplot as plt\n",
    "import pickle\n",
    "\n",
    "def pre_process_images(dataset):\n",
    "    image_base_path = \"data/belgium/{}\".format(dataset)\n",
    "    metadata = \"data/belgium/{}\"\n",
    "    B_train = [[[[]]*1]*1]*1\n",
    "    B_label = []\n",
    "    for i in range(0, 61):\n",
    "        dir_name = \"00000000{}\".format(i)[-5:]\n",
    "        image_path = image_base_path + \"/\" + dir_name\n",
    "        onlyfiles = [ f for f in listdir(image_path) if isfile(join(image_path, f)) ]\n",
    "        images = numpy.empty(len(onlyfiles), dtype=object)\n",
    "        csv_file = image_path + \"/\" + \"GT-{}.csv\".format(dir_name)\n",
    "        \n",
    "        with open(csv_file, 'r') as csvfile:\n",
    "            reader = csv.reader(csvfile, delimiter=';')\n",
    "            for row in reader:\n",
    "                if(row[0] == \"Filename\"):\n",
    "                    continue\n",
    "                \n",
    "                full_path = image_path + \"/\" + row[0]\n",
    "                img = cv2.imread(full_path)\n",
    "                \n",
    "                img = img[int(row[4]):int(row[6]), int(1):int(row[5]),0:3]\n",
    "                ## Ignore all images greater than 124x124\n",
    "                if img.shape[0] > 124 or img.shape[1] > 124:\n",
    "                    continue\n",
    "                img = np.lib.pad(img, ((0,128-img.shape[0]),(0,128-img.shape[1]),(0,0)), 'constant', constant_values=0)\n",
    "                \n",
    "                B_train.append(img)\n",
    "                B_label.append(row[7])\n",
    "                #print(\".......{}\".format(len(B_train[len(B_train) - 1])))\n",
    "                \n",
    "                #print (\"{}....{}\".format(full_path, img.shape))\n",
    "    B_train.pop(0)\n",
    "    X = np.array(B_train)\n",
    "    Y = np.array(B_label)\n",
    "    \n",
    "    return X, Y\n",
    "X_train, Y_train = pre_process_images('Training')\n",
    "X_test, Y_test = pre_process_images('Testing')\n",
    "belgium_data = {\"X_train\": X_train, \"Y_train\":Y_train, \"X_test\": X_test, \"Y_test\": Y_test}\n",
    "pickle.dump(belgium_data, open(\"belgium_data.p\", \"wb\"))\n",
    "print(\"done\")"
   ]
  },
  {
   "cell_type": "code",
   "execution_count": 13,
   "metadata": {
    "collapsed": false
   },
   "outputs": [
    {
     "name": "stdout",
     "output_type": "stream",
     "text": [
      "(3241, 128, 128, 3)\n",
      "(3241,)\n",
      "(2592, 128, 128, 3)\n",
      "(2592,)\n"
     ]
    }
   ],
   "source": [
    "from sklearn.cross_validation import train_test_split\n",
    "from sklearn.utils import shuffle\n",
    "\n",
    "pickle_file = \"belgium_data.p\"\n",
    "\n",
    "with open(pickle_file, mode='rb') as f:\n",
    "    data = pickle.load(f)\n",
    "\n",
    "X_train, y_train = data['X_train'], data['Y_train']\n",
    "X_test, y_test = data['X_test'], data['Y_test']\n",
    "\n",
    "X_train, y_train = shuffle(X_train, y_train)\n",
    "X_test, y_test = shuffle(X_train, y_train)\n",
    "X_train, X_validation, y_train, y_validation = train_test_split(X_train, y_train, test_size=0.2)\n",
    "\n",
    "#Override previous variables\n",
    "n_classes = 61\n",
    "x = tf.placeholder(tf.float32, (None, 128, 128, 3))\n",
    "print(X_test.shape)\n",
    "print(y_test.shape)\n",
    "print(X_train.shape)\n",
    "print(y_train.shape)"
   ]
  },
  {
   "cell_type": "markdown",
   "metadata": {},
   "source": [
    "### Question 2\n",
    "\n",
    "_Describe how you set up the training, validation and testing data for your model. **Optional**: If you generated additional data, how did you generate the data? Why did you generate the data? What are the differences in the new dataset (with generated data) from the original dataset?_"
   ]
  },
  {
   "cell_type": "markdown",
   "metadata": {},
   "source": [
    "**Answer:**"
   ]
  },
  {
   "cell_type": "code",
   "execution_count": 14,
   "metadata": {
    "collapsed": true
   },
   "outputs": [],
   "source": [
    "### Define your architecture here.\n",
    "### Feel free to use as many code cells as needed."
   ]
  },
  {
   "cell_type": "code",
   "execution_count": 15,
   "metadata": {
    "collapsed": true
   },
   "outputs": [],
   "source": [
    "# I have used additional training and testing data from the BelgiumTrafficDataset (http://btsd.ethz.ch/shareddata/)\n",
    "# The number of test and training data is relatively small, however the accuracy is 50+%\n",
    "# The additional dataset I used, wasn't normalized with 32*32*3, but was a random size.\n",
    "#     1) Crop the image.\n",
    "#     2) 0'pad the image to bring the size to 128*128*3\n",
    "#     3) Write the test/train/label in a pickle file\n",
    "# Use train_test_split to split the dataset into 80-20 ratio for train and validation"
   ]
  },
  {
   "cell_type": "markdown",
   "metadata": {},
   "source": [
    "### Question 3\n",
    "\n",
    "_What does your final architecture look like? (Type of model, layers, sizes, connectivity, etc.)  For reference on how to build a deep neural network using TensorFlow, see [Deep Neural Network in TensorFlow\n",
    "](https://classroom.udacity.com/nanodegrees/nd013/parts/fbf77062-5703-404e-b60c-95b78b2f3f9e/modules/6df7ae49-c61c-4bb2-a23e-6527e69209ec/lessons/b516a270-8600-4f93-a0a3-20dfeabe5da6/concepts/83a3a2a2-a9bd-4b7b-95b0-eb924ab14432) from the classroom._\n"
   ]
  },
  {
   "cell_type": "markdown",
   "metadata": {
    "collapsed": true
   },
   "source": [
    "**Answer**\n",
    "\n",
    "*Obervations* while training (German Traffic Signal Dataset):\n",
    "   1. With default setting, increasing the EPOCH does not lead to overfitting.\n",
    "       - Turns out in case of larger NN, it does cause over fitting. Keep EPOCH to 10\n",
    "   2. With activation as tanh, learning is much faster. The result however is better with relu.\n",
    "   3. With default setting and more neurons in each layer - OVERFITTING\n",
    "   4. Adding new 1 new FC layer increases the accuracy by 7-8%. But adding 1+ FC, does not help\n",
    "   5. Decreasing filter size to 3, increased the accuracy to 91.9%\n",
    "   6. Added L2 regularization, accuracy increased slightly by 0.5%. Considerably less over fitting\n",
    "   7. Not enough help from dropout. Keeping the probability as 1\n",
    "\n",
    "ARCHITECTURE\n",
    "- Added 1 FC layer to the LeNet architecture.\n",
    "- Increased the layer_depth as the size of the image was large\n",
    "- Decreased the filter size to 1\n"
   ]
  },
  {
   "cell_type": "markdown",
   "metadata": {},
   "source": [
    "### Question 4\n",
    "\n",
    "_How did you train your model? (Type of optimizer, batch size, epochs, hyperparameters, etc.)_\n"
   ]
  },
  {
   "cell_type": "markdown",
   "metadata": {},
   "source": [
    "**Answer:**\n",
    "Optimizer was kept as AdamOptimizer, as it was resulting in a much better solution in ver less epoch.\n",
    "With higher batch size the result not as good.\n",
    "Hyperparameter - Increasing/Decreasing mu and sigma led to lesser accuracy as well as more training time.\n",
    "Filter size of 2 and maxpool/conv stride of 1 gave the best result, (for 32*32*3 images)\n",
    "\n",
    "The images for Belgium dataset are not as good as the german dataset, since the images are not well normalised. There is 0-padding on the belgium dataset as well. Also, the training dataset is relatively small as compared to german dataset.\n",
    "\n",
    "Accuracy on test set:\n",
    "\n",
    "German - upto 92%\n",
    "\n",
    "Belgium - upto 82% (10 epoch) and 90% (20 epoch)"
   ]
  },
  {
   "cell_type": "markdown",
   "metadata": {},
   "source": [
    "### Question 5\n",
    "\n",
    "\n",
    "_What approach did you take in coming up with a solution to this problem? It may have been a process of trial and error, in which case, outline the steps you took to get to the final solution and why you chose those steps. Perhaps your solution involved an already well known implementation or architecture. In this case, discuss why you think this is suitable for the current problem._"
   ]
  },
  {
   "cell_type": "markdown",
   "metadata": {},
   "source": [
    "**Answer:**\n",
    "The solution to hyperparameter was mostly trial and error. For most the the hyper parameter tuning, I was able to find a reason on why the result was affected in the way it did.\n",
    "\n",
    "Since I am running on NVIDIA GTX1080, trial-and-error was much faster.\n",
    "\n",
    "Reiterating the observances:\n",
    "1. With default setting, increasing the EPOCH does not lead to overfitting.\n",
    "    - Turns out in case of larger NN, it does cause over fitting. Keep EPOCH to 10\n",
    "2. With activation as tanh, learning is much faster. The result however is better with relu.\n",
    "3. With default setting and more neurons in each layer - OVERFITTING\n",
    "4. Adding new 1 new FC layer increases the accuracy by 7-8%. But adding 1+ FC, does not help\n",
    "5. Decreasing filter size to 3, increased the accuracy to 91.9%\n",
    "6. Added L2 regularization, accuracy increased slightly by 0.5%. Considerably less over fitting\n",
    "7. Not enough help from dropout. Keeping the probability as 1\n",
    "8. B/W and Greyscale images did not give better result, probably becuase color plays an imporant part.\n",
    "\n"
   ]
  },
  {
   "cell_type": "markdown",
   "metadata": {},
   "source": [
    "---\n",
    "\n",
    "## Step 3: Test a Model on New Images\n",
    "\n",
    "Take several pictures of traffic signs that you find on the web or around you (at least five), and run them through your classifier on your computer to produce example results. The classifier might not recognize some local signs but it could prove interesting nonetheless.\n",
    "\n",
    "You may find `signnames.csv` useful as it contains mappings from the class id (integer) to the actual sign name."
   ]
  },
  {
   "cell_type": "markdown",
   "metadata": {},
   "source": [
    "### Implementation\n",
    "\n",
    "Use the code cell (or multiple code cells, if necessary) to implement the first step of your project. Once you have completed your implementation and are satisfied with the results, be sure to thoroughly answer the questions that follow."
   ]
  },
  {
   "cell_type": "code",
   "execution_count": 16,
   "metadata": {
    "collapsed": true
   },
   "outputs": [],
   "source": [
    "### Load the images and plot them here.\n",
    "### Feel free to use as many code cells as needed."
   ]
  },
  {
   "cell_type": "code",
   "execution_count": 25,
   "metadata": {
    "collapsed": false
   },
   "outputs": [],
   "source": [
    "# for belgium dataset\n",
    "from sklearn.cross_validation import train_test_split\n",
    "from sklearn.utils import shuffle\n",
    "import pickle\n",
    "import tensorflow as tf\n",
    "import numpy as np\n",
    "\n",
    "pickle_file = \"belgium_data.p\"\n",
    "\n",
    "with open(pickle_file, mode='rb') as f:\n",
    "    data = pickle.load(f)\n",
    "\n",
    "X_train, y_train = data['X_train'], data['Y_train']\n",
    "X_test, y_test = data['X_test'], data['Y_test']\n",
    "\n",
    "X_train, y_train = shuffle(X_train, y_train)\n",
    "X_test, y_test = shuffle(X_train, y_train)\n",
    "X_train, X_validation, y_train, y_validation = train_test_split(X_train, y_train, test_size=0.2)\n",
    "X_test, X_validation, y_test, y_validation = train_test_split(X_validation, y_validation, test_size=0.5)\n",
    "\n",
    "x = tf.placeholder(tf.float32, (None, 128, 128, 3), name=\"x\")\n",
    "y = tf.placeholder(tf.int32, (None), name=\"y\")\n",
    "n_classes = len(np.unique(y_train))\n",
    "one_hot_y = tf.one_hot(y, n_classes)\n",
    "\n",
    "rate = 0.001\n",
    "beta = 0.01\n",
    "EPOCH = 50\n",
    "fc_size = 48050"
   ]
  },
  {
   "cell_type": "code",
   "execution_count": 26,
   "metadata": {
    "collapsed": false,
    "scrolled": false
   },
   "outputs": [
    {
     "name": "stdout",
     "output_type": "stream",
     "text": [
      "................48050\n",
      "Training...\n",
      "\n",
      "(2592, 128, 128, 3)\n",
      "EPOCH 1 ...\n",
      "Validation Accuracy = 0.025\n",
      "\n",
      "(2592, 128, 128, 3)\n",
      "EPOCH 2 ...\n",
      "Validation Accuracy = 0.052\n",
      "\n",
      "(2592, 128, 128, 3)\n",
      "EPOCH 3 ...\n",
      "Validation Accuracy = 0.071\n",
      "\n",
      "(2592, 128, 128, 3)\n",
      "EPOCH 4 ...\n",
      "Validation Accuracy = 0.058\n",
      "\n",
      "(2592, 128, 128, 3)\n",
      "EPOCH 5 ...\n",
      "Validation Accuracy = 0.132\n",
      "\n",
      "(2592, 128, 128, 3)\n",
      "EPOCH 6 ...\n",
      "Validation Accuracy = 0.145\n",
      "\n",
      "(2592, 128, 128, 3)\n",
      "EPOCH 7 ...\n",
      "Validation Accuracy = 0.154\n",
      "\n",
      "(2592, 128, 128, 3)\n",
      "EPOCH 8 ...\n",
      "Validation Accuracy = 0.151\n",
      "\n",
      "(2592, 128, 128, 3)\n",
      "EPOCH 9 ...\n",
      "Validation Accuracy = 0.185\n",
      "\n",
      "(2592, 128, 128, 3)\n",
      "EPOCH 10 ...\n",
      "Validation Accuracy = 0.228\n",
      "\n",
      "(2592, 128, 128, 3)\n",
      "EPOCH 11 ...\n",
      "Validation Accuracy = 0.249\n",
      "\n",
      "(2592, 128, 128, 3)\n",
      "EPOCH 12 ...\n",
      "Validation Accuracy = 0.311\n",
      "\n",
      "(2592, 128, 128, 3)\n",
      "EPOCH 13 ...\n",
      "Validation Accuracy = 0.305\n",
      "\n",
      "(2592, 128, 128, 3)\n",
      "EPOCH 14 ...\n",
      "Validation Accuracy = 0.363\n",
      "\n",
      "(2592, 128, 128, 3)\n",
      "EPOCH 15 ...\n",
      "Validation Accuracy = 0.409\n",
      "\n",
      "(2592, 128, 128, 3)\n",
      "EPOCH 16 ...\n",
      "Validation Accuracy = 0.422\n",
      "\n",
      "(2592, 128, 128, 3)\n",
      "EPOCH 17 ...\n",
      "Validation Accuracy = 0.428\n",
      "\n",
      "(2592, 128, 128, 3)\n",
      "EPOCH 18 ...\n",
      "Validation Accuracy = 0.363\n",
      "\n",
      "(2592, 128, 128, 3)\n",
      "EPOCH 19 ...\n",
      "Validation Accuracy = 0.492\n",
      "\n",
      "(2592, 128, 128, 3)\n",
      "EPOCH 20 ...\n",
      "Validation Accuracy = 0.443\n",
      "\n",
      "(2592, 128, 128, 3)\n",
      "EPOCH 21 ...\n",
      "Validation Accuracy = 0.474\n",
      "\n",
      "(2592, 128, 128, 3)\n",
      "EPOCH 22 ...\n",
      "Validation Accuracy = 0.474\n",
      "\n",
      "(2592, 128, 128, 3)\n",
      "EPOCH 23 ...\n",
      "Validation Accuracy = 0.517\n",
      "\n",
      "(2592, 128, 128, 3)\n",
      "EPOCH 24 ...\n",
      "Validation Accuracy = 0.548\n",
      "\n",
      "(2592, 128, 128, 3)\n",
      "EPOCH 25 ...\n",
      "Validation Accuracy = 0.585\n",
      "\n",
      "(2592, 128, 128, 3)\n",
      "EPOCH 26 ...\n",
      "Validation Accuracy = 0.535\n",
      "\n",
      "(2592, 128, 128, 3)\n",
      "EPOCH 27 ...\n",
      "Validation Accuracy = 0.557\n",
      "\n",
      "(2592, 128, 128, 3)\n",
      "EPOCH 28 ...\n",
      "Validation Accuracy = 0.569\n",
      "\n",
      "(2592, 128, 128, 3)\n",
      "EPOCH 29 ...\n",
      "Validation Accuracy = 0.545\n",
      "\n",
      "(2592, 128, 128, 3)\n",
      "EPOCH 30 ...\n",
      "Validation Accuracy = 0.588\n",
      "\n",
      "(2592, 128, 128, 3)\n",
      "EPOCH 31 ...\n",
      "Validation Accuracy = 0.529\n",
      "\n",
      "(2592, 128, 128, 3)\n",
      "EPOCH 32 ...\n",
      "Validation Accuracy = 0.597\n",
      "\n",
      "(2592, 128, 128, 3)\n",
      "EPOCH 33 ...\n",
      "Validation Accuracy = 0.634\n",
      "\n",
      "(2592, 128, 128, 3)\n",
      "EPOCH 34 ...\n",
      "Validation Accuracy = 0.548\n",
      "\n",
      "(2592, 128, 128, 3)\n",
      "EPOCH 35 ...\n",
      "Validation Accuracy = 0.603\n",
      "\n",
      "(2592, 128, 128, 3)\n",
      "EPOCH 36 ...\n",
      "Validation Accuracy = 0.529\n",
      "\n",
      "(2592, 128, 128, 3)\n",
      "EPOCH 37 ...\n",
      "Validation Accuracy = 0.554\n",
      "\n",
      "(2592, 128, 128, 3)\n",
      "EPOCH 38 ...\n",
      "Validation Accuracy = 0.612\n",
      "\n",
      "(2592, 128, 128, 3)\n",
      "EPOCH 39 ...\n",
      "Validation Accuracy = 0.566\n",
      "\n",
      "(2592, 128, 128, 3)\n",
      "EPOCH 40 ...\n",
      "Validation Accuracy = 0.618\n",
      "\n",
      "(2592, 128, 128, 3)\n",
      "EPOCH 41 ...\n",
      "Validation Accuracy = 0.671\n",
      "\n",
      "(2592, 128, 128, 3)\n",
      "EPOCH 42 ...\n",
      "Validation Accuracy = 0.612\n",
      "\n",
      "(2592, 128, 128, 3)\n",
      "EPOCH 43 ...\n",
      "Validation Accuracy = 0.628\n",
      "\n",
      "(2592, 128, 128, 3)\n",
      "EPOCH 44 ...\n",
      "Validation Accuracy = 0.622\n",
      "\n",
      "(2592, 128, 128, 3)\n",
      "EPOCH 45 ...\n",
      "Validation Accuracy = 0.631\n",
      "\n",
      "(2592, 128, 128, 3)\n",
      "EPOCH 46 ...\n",
      "Validation Accuracy = 0.600\n",
      "\n",
      "(2592, 128, 128, 3)\n",
      "EPOCH 47 ...\n",
      "Validation Accuracy = 0.609\n",
      "\n",
      "(2592, 128, 128, 3)\n",
      "EPOCH 48 ...\n",
      "Validation Accuracy = 0.591\n",
      "\n",
      "(2592, 128, 128, 3)\n",
      "EPOCH 49 ...\n",
      "Validation Accuracy = 0.606\n",
      "\n",
      "(2592, 128, 128, 3)\n",
      "EPOCH 50 ...\n",
      "Validation Accuracy = 0.609\n",
      "\n",
      "Model saved\n",
      "Test Accuracy = 0.596\n"
     ]
    }
   ],
   "source": [
    "import matplotlib.image as mpimg\n",
    "\n",
    "def evaluate(X_data, y_data):\n",
    "    num_examples = len(X_data)\n",
    "    total_accuracy = 0\n",
    "    sess = tf.get_default_session()\n",
    "    for offset in range(0, num_examples, BATCH_SIZE):\n",
    "        batch_x, batch_y = X_data[offset:offset+BATCH_SIZE], y_data[offset:offset+BATCH_SIZE]\n",
    "        accuracy = sess.run(accuracy_operation, feed_dict={x: batch_x, y: batch_y, d1:1, d2:1, d3:1})\n",
    "        total_accuracy += (accuracy * len(batch_x))\n",
    "    return total_accuracy / num_examples\n",
    "\n",
    "logits, weight, bias, d1, d2, d3 = LeNet(x, fc_size)\n",
    "cross_entropy = tf.nn.softmax_cross_entropy_with_logits(logits, one_hot_y)\n",
    "loss_operation = tf.reduce_mean(cross_entropy)\\\n",
    "    + beta*tf.nn.l2_loss(weight['layer_1']) + beta*tf.nn.l2_loss(weight['layer_2']) + beta*tf.nn.l2_loss(weight['layer_3']) + beta*tf.nn.l2_loss(weight['layer_4']) \\\n",
    "    + beta*tf.nn.l2_loss(weight['layer_5']) + beta*tf.nn.l2_loss(weight['layer_6']) +  beta*tf.nn.l2_loss(weight['out'])\n",
    "\n",
    "optimizer = tf.train.AdamOptimizer(learning_rate = rate)\n",
    "training_operation = optimizer.minimize(loss_operation)\n",
    "\n",
    "correct_prediction = tf.equal(tf.argmax(logits, 1), tf.argmax(one_hot_y, 1))\n",
    "accuracy_operation = tf.reduce_mean(tf.cast(correct_prediction, tf.float32))\n",
    "saver = tf.train.Saver()\n",
    "\n",
    "with tf.Session() as sess:\n",
    "    sess.run(tf.global_variables_initializer())\n",
    "    num_examples = len(X_train)\n",
    "\n",
    "    print(\"Training...\")\n",
    "    print()\n",
    "    for i in range(EPOCH):\n",
    "        print(X_train.shape)\n",
    "        for offset in range(0, num_examples, BATCH_SIZE):\n",
    "            end = offset + BATCH_SIZE\n",
    "            batch_x, batch_y = X_train[offset:end], y_train[offset:end]\n",
    "            sess.run(training_operation, feed_dict={x: batch_x, y: batch_y, d1:1, d2:1, d3:1})\n",
    "\n",
    "        validation_accuracy = evaluate(X_validation, y_validation)\n",
    "        print(\"EPOCH {} ...\".format(i+1))\n",
    "        print(\"Validation Accuracy = {:.3f}\".format(validation_accuracy))\n",
    "        print()\n",
    "\n",
    "    saver.save(sess, 'belgium.ckpt')\n",
    "    print(\"Model saved\")\n",
    "\n",
    "    test_accuracy = evaluate(X_test, y_test)\n",
    "    print(\"Test Accuracy = {:.3f}\".format(test_accuracy))"
   ]
  },
  {
   "cell_type": "markdown",
   "metadata": {},
   "source": [
    "### Question 6\n",
    "\n",
    "_Choose five candidate images of traffic signs and provide them in the report. Are there any particular qualities of the image(s) that might make classification difficult? It could be helpful to plot the images in the notebook._\n",
    "\n"
   ]
  },
  {
   "cell_type": "markdown",
   "metadata": {},
   "source": [
    "**Answer:**"
   ]
  },
  {
   "cell_type": "code",
   "execution_count": 27,
   "metadata": {
    "collapsed": false
   },
   "outputs": [
    {
     "name": "stdout",
     "output_type": "stream",
     "text": [
      "Test Accuracy = 0.700\n"
     ]
    },
    {
     "data": {
      "image/png": "[encoded data removed]",
      "text/plain": [
       "<matplotlib.figure.Figure at 0x7fe9b5aa4828>"
      ]
     },
     "metadata": {},
     "output_type": "display_data"
    },
    {
     "data": {
      "image/png": "[encoded data removed]",
      "text/plain": [
       "<matplotlib.figure.Figure at 0x7fe974508b38>"
      ]
     },
     "metadata": {},
     "output_type": "display_data"
    },
    {
     "data": {
      "image/png": "[encoded data removed]",
      "text/plain": [
       "<matplotlib.figure.Figure at 0x7fe8ce2d5048>"
      ]
     },
     "metadata": {},
     "output_type": "display_data"
    },
    {
     "data": {
      "image/png": "[encoded data removed]",
      "text/plain": [
       "<matplotlib.figure.Figure at 0x7fe96d828b70>"
      ]
     },
     "metadata": {},
     "output_type": "display_data"
    },
    {
     "data": {
      "image/png": "[encoded data removed]",
      "text/plain": [
       "<matplotlib.figure.Figure at 0x7fe8cf395d30>"
      ]
     },
     "metadata": {},
     "output_type": "display_data"
    },
    {
     "data": {
      "image/png": "[encoded data removed]",
      "text/plain": [
       "<matplotlib.figure.Figure at 0x7fe96d637ef0>"
      ]
     },
     "metadata": {},
     "output_type": "display_data"
    },
    {
     "data": {
      "image/png": "[encoded data removed]",
      "text/plain": [
       "<matplotlib.figure.Figure at 0x7fe96d5467f0>"
      ]
     },
     "metadata": {},
     "output_type": "display_data"
    },
    {
     "data": {
      "image/png": "[encoded data removed]",
      "text/plain": [
       "<matplotlib.figure.Figure at 0x7fe8ce2c3898>"
      ]
     },
     "metadata": {},
     "output_type": "display_data"
    },
    {
     "data": {
      "image/png": "[encoded data removed]",
      "text/plain": [
       "<matplotlib.figure.Figure at 0x7fe97441b470>"
      ]
     },
     "metadata": {},
     "output_type": "display_data"
    },
    {
     "data": {
      "image/png": "[encoded data removed]",
      "text/plain": [
       "<matplotlib.figure.Figure at 0x7fe9743e8be0>"
      ]
     },
     "metadata": {},
     "output_type": "display_data"
    }
   ],
   "source": [
    "### Run the predictions here.\n",
    "### Feel free to use as many code cells as needed.\n",
    "import matplotlib.pyplot as plt\n",
    "\n",
    "# Run the prediction on the BELGIUM dataset\n",
    "X_test = X_test[0:10]\n",
    "y_test = y_test[0:10]\n",
    "\n",
    "one_hot_y = tf.one_hot(y_test, n_classes)\n",
    "\n",
    "with tf.Session() as sess:\n",
    "\n",
    "    \n",
    "    saver.restore(sess, tf.train.latest_checkpoint('.'))\n",
    "\n",
    "    p = sess.run(logits, feed_dict={x: X_test, y: y_test, d1:1, d2:1, d3:1})\n",
    "    \n",
    "    for i in range(p.shape[0]):\n",
    "        predicted_class = np.argmax(p[i], 0)\n",
    "        correct_class = y_test[i]\n",
    "        plt.figure(i, figsize=(1,1))\n",
    "        plt.title(\"predicted = {} correct = {}\".format(predicted_class, correct_class))\n",
    "        plt.imshow(X_test[i])\n",
    "        \n",
    "    test_accuracy = evaluate(X_test, y_test)\n",
    "    print(\"Test Accuracy = {:.3f}\".format(test_accuracy))"
   ]
  },
  {
   "cell_type": "markdown",
   "metadata": {},
   "source": [
    "### Question 7\n",
    "\n",
    "_Is your model able to perform equally well on captured pictures when compared to testing on the dataset? The simplest way to do this check the accuracy of the predictions. For example, if the model predicted 1 out of 5 signs correctly, it's 20% accurate._\n",
    "\n",
    "_**NOTE:** You could check the accuracy manually by using `signnames.csv` (same directory). This file has a mapping from the class id (0-42) to the corresponding sign name. So, you could take the class id the model outputs, lookup the name in `signnames.csv` and see if it matches the sign from the image._\n"
   ]
  },
  {
   "cell_type": "markdown",
   "metadata": {},
   "source": [
    "**Answer:**"
   ]
  },
  {
   "cell_type": "markdown",
   "metadata": {
    "collapsed": true
   },
   "source": [
    "**Answer**:\n",
    "From the above run we can see that belgium dataset is not performing the same as the german dataset.\n",
    "The reason for the disparity in the accuracy are as follows:\n",
    "1. The image are not of standard size and needs to be padded so that the image is within 128x128\n",
    "2. The image are also needs to be cropped so that the background can be removed from training data.\n",
    "\n",
    "The accuracy of belgium dataset is upto 80% while german dataset is around 92%\n",
    "    "
   ]
  },
  {
   "cell_type": "markdown",
   "metadata": {},
   "source": [
    "### Question 8\n",
    "\n",
    "*Use the model's softmax probabilities to visualize the **certainty** of its predictions, [`tf.nn.top_k`](https://www.tensorflow.org/versions/r0.12/api_docs/python/nn.html#top_k) could prove helpful here. Which predictions is the model certain of? Uncertain? If the model was incorrect in its initial prediction, does the correct prediction appear in the top k? (k should be 5 at most)*\n",
    "\n",
    "`tf.nn.top_k` will return the values and indices (class ids) of the top k predictions. So if k=3, for each sign, it'll return the 3 largest probabilities (out of a possible 43) and the correspoding class ids.\n",
    "\n",
    "Take this numpy array as an example:\n",
    "\n",
    "```\n",
    "# (5, 6) array\n",
    "a = np.array([[ 0.24879643,  0.07032244,  0.12641572,  0.34763842,  0.07893497,\n",
    "         0.12789202],\n",
    "       [ 0.28086119,  0.27569815,  0.08594638,  0.0178669 ,  0.18063401,\n",
    "         0.15899337],\n",
    "       [ 0.26076848,  0.23664738,  0.08020603,  0.07001922,  0.1134371 ,\n",
    "         0.23892179],\n",
    "       [ 0.11943333,  0.29198961,  0.02605103,  0.26234032,  0.1351348 ,\n",
    "         0.16505091],\n",
    "       [ 0.09561176,  0.34396535,  0.0643941 ,  0.16240774,  0.24206137,\n",
    "         0.09155967]])\n",
    "```\n",
    "\n",
    "Running it through `sess.run(tf.nn.top_k(tf.constant(a), k=3))` produces:\n",
    "\n",
    "```\n",
    "TopKV2(values=array([[ 0.34763842,  0.24879643,  0.12789202],\n",
    "       [ 0.28086119,  0.27569815,  0.18063401],\n",
    "       [ 0.26076848,  0.23892179,  0.23664738],\n",
    "       [ 0.29198961,  0.26234032,  0.16505091],\n",
    "       [ 0.34396535,  0.24206137,  0.16240774]]), indices=array([[3, 0, 5],\n",
    "       [0, 1, 4],\n",
    "       [0, 5, 1],\n",
    "       [1, 3, 5],\n",
    "       [1, 4, 3]], dtype=int32))\n",
    "```\n",
    "\n",
    "Looking just at the first row we get `[ 0.34763842,  0.24879643,  0.12789202]`, you can confirm these are the 3 largest probabilities in `a`. You'll also notice `[3, 0, 5]` are the corresponding indices."
   ]
  },
  {
   "cell_type": "markdown",
   "metadata": {},
   "source": [
    "**Answer:**"
   ]
  },
  {
   "cell_type": "markdown",
   "metadata": {},
   "source": [
    "> **Note**: Once you have completed all of the code implementations and successfully answered each question above, you may finalize your work by exporting the iPython Notebook as an HTML document. You can do this by using the menu above and navigating to  \\n\",\n",
    "    \"**File -> Download as -> HTML (.html)**. Include the finished document along with this notebook as your submission."
   ]
  },
  {
   "cell_type": "code",
   "execution_count": 28,
   "metadata": {
    "collapsed": false
   },
   "outputs": [
    {
     "name": "stdout",
     "output_type": "stream",
     "text": [
      "Correct Predication 31. Predicted = [31 25 29].\n",
      "Correct Predication 23. Predicted = [25 31 28].\n",
      "Correct Predication 40. Predicted = [40 41 42].\n",
      "Correct Predication 7. Predicted = [40 22 42].\n",
      "Correct Predication 32. Predicted = [32 31 20].\n",
      "Correct Predication 44. Predicted = [53 32 47].\n",
      "Correct Predication 47. Predicted = [47 46 50].\n",
      "Correct Predication 40. Predicted = [40 41 42].\n",
      "Correct Predication 19. Predicted = [19 28 22].\n",
      "Correct Predication 53. Predicted = [53 35 36].\n"
     ]
    }
   ],
   "source": [
    "#sess.run(tf.nn.top_k(tf.constant(a), k=3))\n",
    "\n",
    "one_hot_y = tf.one_hot(y_test, n_classes)\n",
    "\n",
    "with tf.Session() as sess:\n",
    "\n",
    "    \n",
    "    saver.restore(sess, tf.train.latest_checkpoint('.'))\n",
    "\n",
    "    p = sess.run(tf.nn.top_k(logits, k=3), feed_dict={x: X_test, y: y_test, d1:1, d2:1, d3:1})\n",
    "    \n",
    "\n",
    "    for i in range(p.indices.shape[0]):\n",
    "        print(\"Correct Predication {}. Predicted = {}.\".format(y_test[i], p.indices[i]))"
   ]
  },
  {
   "cell_type": "markdown",
   "metadata": {},
   "source": [
    "**For topK elements with k=3, accuracy = 70%**"
   ]
  },
  {
   "cell_type": "code",
   "execution_count": null,
   "metadata": {
    "collapsed": true
   },
   "outputs": [],
   "source": []
  }
 ],
 "metadata": {
  "anaconda-cloud": {},
  "kernelspec": {
   "display_name": "Python 3",
   "language": "python",
   "name": "python3"
  },
  "language_info": {
   "codemirror_mode": {
    "name": "ipython",
    "version": 3
   },
   "file_extension": ".py",
   "mimetype": "text/x-python",
   "name": "python",
   "nbconvert_exporter": "python",
   "pygments_lexer": "ipython3",
   "version": "3.5.2"
  },
  "widgets": {
   "state": {},
   "version": "1.1.2"
  }
 },
 "nbformat": 4,
 "nbformat_minor": 1
}
